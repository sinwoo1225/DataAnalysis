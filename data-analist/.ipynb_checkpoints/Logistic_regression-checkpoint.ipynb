{
 "cells": [
  {
   "cell_type": "code",
   "execution_count": 2,
   "metadata": {},
   "outputs": [],
   "source": [
    "import tensorflow as tf\n",
    "tf.set_random_seed(777)"
   ]
  },
  {
   "cell_type": "code",
   "execution_count": 5,
   "metadata": {},
   "outputs": [
    {
     "name": "stdout",
     "output_type": "stream",
     "text": [
      "WARNING:tensorflow:From /root/anaconda3/lib/python3.6/site-packages/tensorflow/python/framework/op_def_library.py:263: colocate_with (from tensorflow.python.framework.ops) is deprecated and will be removed in a future version.\n",
      "Instructions for updating:\n",
      "Colocations handled automatically by placer.\n"
     ]
    }
   ],
   "source": [
    "x_data=[[1,2],[2,3],[3,1],[4,3],[5,3],[6,2]]\n",
    "y_data=[[0],[0],[0],[1],[1],[1]];\n",
    "\n",
    "# placeholders for a tensor that will be always fed\n",
    "X = tf.placeholder(tf.float32, shape=[None, 2])\n",
    "Y = tf.placeholder(tf.float32, shape=[None,1])\n",
    "W = tf.Variable(tf.random_normal([2,1]), name='weight')\n",
    "b = tf.Variable(tf.random_normal([1]), name='bias')"
   ]
  },
  {
   "cell_type": "code",
   "execution_count": 6,
   "metadata": {},
   "outputs": [],
   "source": [
    "# Hypothesis using sigmoid: tf.div(1., 1. + tf.exp(tf.matmul(X, W)+b))\n",
    "hypothesis = tf.sigmoid(tf.matmul(X,W) + b)\n",
    "\n",
    "# cost/loss function\n",
    "cost = -tf.reduce_mean(Y *tf.log(hypothesis) + (1-Y) * \n",
    "                       tf.log(hypothesis))\n",
    "\n",
    "train = tf.train.GradientDescentOptimizer(learning_rate=0.01).minimize(cost)"
   ]
  },
  {
   "cell_type": "code",
   "execution_count": 7,
   "metadata": {},
   "outputs": [],
   "source": [
    "# Accurary computaion\n",
    "predicted = tf.cast(hypothesis > 0.5, dtype=tf.float32)\n",
    "accuracy = tf.reduce_mean(tf.cast(tf.equal(predicted, Y),dtype=tf.float32))"
   ]
  },
  {
   "cell_type": "code",
   "execution_count": 11,
   "metadata": {},
   "outputs": [
    {
     "name": "stdout",
     "output_type": "stream",
     "text": [
      "0 0.012370174\n",
      "200 0.010368935\n",
      "400 0.008944546\n",
      "600 0.007876351\n",
      "800 0.00704408\n",
      "1000 0.006376459\n",
      "1200 0.0058284146\n",
      "1400 0.005370142\n",
      "1600 0.0049808845\n",
      "1800 0.0046460484\n",
      "2000 0.004354738\n",
      "2200 0.004098959\n",
      "2400 0.0038724684\n",
      "2600 0.0036704813\n",
      "2800 0.0034890722\n",
      "3000 0.0033253378\n",
      "3200 0.003176736\n",
      "3400 0.0030411922\n",
      "3600 0.0029170963\n",
      "3800 0.0028030032\n",
      "4000 0.0026977796\n",
      "4200 0.002600386\n",
      "4400 0.002509945\n",
      "4600 0.002425779\n",
      "4800 0.0023471925\n",
      "5000 0.0022736916\n",
      "5200 0.0022048021\n",
      "5400 0.002140031\n",
      "5600 0.0020790955\n",
      "5800 0.0020215937\n",
      "6000 0.0019673132\n",
      "6200 0.0019159126\n",
      "6400 0.0018672012\n",
      "6600 0.0018209071\n",
      "6800 0.0017770189\n",
      "7000 0.0017351564\n",
      "7200 0.0016953386\n",
      "7400 0.0016573151\n",
      "7600 0.0016209952\n",
      "7800 0.0015862983\n",
      "8000 0.0015530838\n",
      "8200 0.0015212615\n",
      "8400 0.0014907415\n",
      "8600 0.0014614431\n",
      "8800 0.001433306\n",
      "9000 0.00140629\n",
      "9200 0.0013802351\n",
      "9400 0.0013552207\n",
      "9600 0.0013310873\n",
      "9800 0.0013077845\n",
      "10000 0.0012853617\n",
      "\n",
      "Hypothesis:  [[0.99377644]\n",
      " [0.99929225]\n",
      " [0.999292  ]\n",
      " [0.99996126]\n",
      " [0.99999094]\n",
      " [0.9999956 ]] \n",
      "Correct (Y):  [[1.]\n",
      " [1.]\n",
      " [1.]\n",
      " [1.]\n",
      " [1.]\n",
      " [1.]] \n",
      " Accurancy  [[1.]\n",
      " [1.]\n",
      " [1.]\n",
      " [1.]\n",
      " [1.]\n",
      " [1.]]\n"
     ]
    }
   ],
   "source": [
    "# Launch graph\n",
    "with tf.Session() as sess:\n",
    "    sess.run(tf.global_variables_initializer())\n",
    "    \n",
    "    for step in range(10001):\n",
    "        cost_val, _ = sess.run([cost,train], feed_dict={X : x_data, Y: y_data})\n",
    "        if step % 200 == 0:\n",
    "            print(step,cost_val)\n",
    "        \n",
    "    # Accuracy report\n",
    "    h, c, a =sess.run([hypothesis, predicted, accuracy],\n",
    "                         feed_dict={X: x_data, Y: y_data})\n",
    "    print(\"\\nHypothesis: \",h,\"\\nCorrect (Y): \",c,\"\\n Accurancy \",c )"
   ]
  },
  {
   "cell_type": "code",
   "execution_count": null,
   "metadata": {},
   "outputs": [],
   "source": []
  }
 ],
 "metadata": {
  "kernelspec": {
   "display_name": "Python 3",
   "language": "python",
   "name": "python3"
  },
  "language_info": {
   "codemirror_mode": {
    "name": "ipython",
    "version": 3
   },
   "file_extension": ".py",
   "mimetype": "text/x-python",
   "name": "python",
   "nbconvert_exporter": "python",
   "pygments_lexer": "ipython3",
   "version": "3.6.4"
  }
 },
 "nbformat": 4,
 "nbformat_minor": 2
}
