{
 "cells": [
  {
   "cell_type": "code",
   "execution_count": 1,
   "metadata": {},
   "outputs": [
    {
     "name": "stderr",
     "output_type": "stream",
     "text": [
      "/root/anaconda3/lib/python3.6/site-packages/h5py/__init__.py:36: FutureWarning: Conversion of the second argument of issubdtype from `float` to `np.floating` is deprecated. In future, it will be treated as `np.float64 == np.dtype(float).type`.\n",
      "  from ._conv import register_converters as _register_converters\n"
     ]
    }
   ],
   "source": [
    "import tensorflow as tf\n",
    "tf.set_random_seed(777)"
   ]
  },
  {
   "cell_type": "code",
   "execution_count": 3,
   "metadata": {},
   "outputs": [],
   "source": [
    "x_data=[[1,2],[2,3],[3,1],[4,3],[5,3],[6,2]]\n",
    "y_data=[[0],[0],[0],[1],[1],[1]];\n",
    "\n",
    "# placeholders for a tensor that will be always fed\n",
    "X = tf.placeholder(tf.float32, shape=[None, 2])\n",
    "Y = tf.placeholder(tf.float32, shape=[None,1])\n",
    "W = tf.Variable(tf.random_normal([2,1]), name='weight')\n",
    "b = tf.Variable(tf.random_normal([1]), name='bias')"
   ]
  },
  {
   "cell_type": "code",
   "execution_count": 4,
   "metadata": {},
   "outputs": [],
   "source": [
    "# Hypothesis using sigmoid: tf.div(1., 1. + tf.exp(tf.matmul(X, W)+b))\n",
    "hypothesis = tf.sigmoid(tf.matmul(X,W) + b)\n",
    "\n",
    "# cost/loss function\n",
    "cost = -tf.reduce_mean(Y *tf.log(hypothesis) + (1-Y) * \n",
    "                       tf.log(1-hypothesis))\n",
    "\n",
    "train = tf.train.GradientDescentOptimizer(learning_rate=0.01).minimize(cost)"
   ]
  },
  {
   "cell_type": "code",
   "execution_count": 5,
   "metadata": {},
   "outputs": [],
   "source": [
    "# Accurary computaion\n",
    "predicted = tf.cast(hypothesis > 0.5, dtype=tf.float32)\n",
    "accuracy = tf.reduce_mean(tf.cast(tf.equal(predicted, Y),dtype=tf.float32))"
   ]
  },
  {
   "cell_type": "code",
   "execution_count": 6,
   "metadata": {},
   "outputs": [
    {
     "name": "stdout",
     "output_type": "stream",
     "text": [
      "0 0.7943441\n",
      "200 0.54775447\n",
      "400 0.45771635\n",
      "600 0.4150387\n",
      "800 0.38978565\n",
      "1000 0.3719084\n",
      "1200 0.35761273\n",
      "1400 0.34529403\n",
      "1600 0.33420944\n",
      "1800 0.3239877\n",
      "2000 0.31442922\n",
      "2200 0.30541936\n",
      "2400 0.29688624\n",
      "2600 0.28878126\n",
      "2800 0.28106824\n",
      "3000 0.27371877\n",
      "3200 0.2667086\n",
      "3400 0.2600169\n",
      "3600 0.2536244\n",
      "3800 0.2475137\n",
      "4000 0.2416688\n",
      "4200 0.23607463\n",
      "4400 0.23071693\n",
      "4600 0.22558284\n",
      "4800 0.2206598\n",
      "5000 0.21593647\n",
      "5200 0.21140182\n",
      "5400 0.20704587\n",
      "5600 0.20285891\n",
      "5800 0.19883226\n",
      "6000 0.19495739\n",
      "6200 0.19122642\n",
      "6400 0.18763213\n",
      "6600 0.1841675\n",
      "6800 0.18082595\n",
      "7000 0.17760162\n",
      "7200 0.1744885\n",
      "7400 0.17148125\n",
      "7600 0.168575\n",
      "7800 0.16576484\n",
      "8000 0.16304617\n",
      "8200 0.1604149\n",
      "8400 0.157867\n",
      "8600 0.15539865\n",
      "8800 0.15300637\n",
      "9000 0.15068676\n",
      "9200 0.1484367\n",
      "9400 0.14625312\n",
      "9600 0.14413328\n",
      "9800 0.14207439\n",
      "10000 0.14007403\n",
      "\n",
      "Hypothesis:  [[0.02687911]\n",
      " [0.15326047]\n",
      " [0.28581998]\n",
      " [0.79022354]\n",
      " [0.94500965]\n",
      " [0.9820078 ]] \n",
      "Correct (Y):  [[0.]\n",
      " [0.]\n",
      " [0.]\n",
      " [1.]\n",
      " [1.]\n",
      " [1.]] \n",
      " Accurancy  1.0\n"
     ]
    }
   ],
   "source": [
    "# Launch graph\n",
    "with tf.Session() as sess:\n",
    "    sess.run(tf.global_variables_initializer())\n",
    "    \n",
    "    for step in range(10001):\n",
    "        cost_val, _ = sess.run([cost,train], feed_dict={X : x_data, Y: y_data})\n",
    "        if step % 200 == 0:\n",
    "            print(step,cost_val)\n",
    "        \n",
    "    # Accuracy report\n",
    "    h, c, a =sess.run([hypothesis, predicted, accuracy],\n",
    "                         feed_dict={X: x_data, Y: y_data})\n",
    "    print(\"\\nHypothesis: \",h,\"\\nCorrect (Y): \",c,\"\\n Accurancy \",a )"
   ]
  },
  {
   "cell_type": "code",
   "execution_count": null,
   "metadata": {},
   "outputs": [],
   "source": []
  },
  {
   "cell_type": "code",
   "execution_count": null,
   "metadata": {},
   "outputs": [],
   "source": []
  }
 ],
 "metadata": {
  "kernelspec": {
   "display_name": "Python 3",
   "language": "python",
   "name": "python3"
  },
  "language_info": {
   "codemirror_mode": {
    "name": "ipython",
    "version": 3
   },
   "file_extension": ".py",
   "mimetype": "text/x-python",
   "name": "python",
   "nbconvert_exporter": "python",
   "pygments_lexer": "ipython3",
   "version": "3.6.4"
  }
 },
 "nbformat": 4,
 "nbformat_minor": 2
}
