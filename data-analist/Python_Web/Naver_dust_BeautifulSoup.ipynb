{
 "cells": [
  {
   "cell_type": "markdown",
   "metadata": {},
   "source": [
    " # 네이버 날씨에서 미세먼지,초미세먼지 농도 크롤링하기"
   ]
  },
  {
   "cell_type": "code",
   "execution_count": 3,
   "metadata": {
    "scrolled": false
   },
   "outputs": [
    {
     "name": "stdout",
     "output_type": "stream",
     "text": [
      "'42㎍/㎥'\n",
      "'16㎍/㎥'\n",
      "'0.079ppm'\n"
     ]
    }
   ],
   "source": [
    "from bs4 import BeautifulSoup as bs\n",
    "import requests\n",
    "from pprint import pprint \n",
    "\n",
    "\n",
    "html = requests.get('https://search.naver.com/search.naver?sm=top_hty&fbm=1&ie=utf8&query=%EB%82%A0%EC%94%A8');\n",
    "# pprint(html.text)\n",
    "\n",
    "soup = bs(html.text,'html.parser')\n",
    "#pprint(soup)\n",
    "\n",
    "area1 = soup.find('dl',{'class':'indicator'})\n",
    "##pprint(area1)\n",
    "\n",
    "area2 = soup.find('dl',{'class':'indicator'}).findAll('dd')\n",
    "\n",
    "for data in area2:\n",
    "    pprint(data.find('span',{'class':'num'}).text)\n"
   ]
  }
 ],
 "metadata": {
  "kernelspec": {
   "display_name": "Python 3",
   "language": "python",
   "name": "python3"
  },
  "language_info": {
   "codemirror_mode": {
    "name": "ipython",
    "version": 3
   },
   "file_extension": ".py",
   "mimetype": "text/x-python",
   "name": "python",
   "nbconvert_exporter": "python",
   "pygments_lexer": "ipython3",
   "version": "3.6.4"
  }
 },
 "nbformat": 4,
 "nbformat_minor": 2
}
