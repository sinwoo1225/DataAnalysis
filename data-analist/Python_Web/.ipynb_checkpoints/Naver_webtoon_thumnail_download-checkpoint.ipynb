{
 "cells": [
  {
   "cell_type": "code",
   "execution_count": null,
   "metadata": {},
   "outputs": [],
   "source": [
    "from bs4 import BeautifulSoup\n",
    "from pprint import pprint\n",
    "import requests\n",
    "\n",
    "#웹 페이지를 열고 소스코드를 읽어오는 작업\n",
    "html = requests.get(\"http://comic.naver.com/webtoon/weekday.nhn\")\n",
    "soup = BeautifulSoup(html.text, 'html.parser')\n",
    "html.close()\n",
    "\n",
    "#요일별 웹툰영역 추출하기\n",
    "data1_list=soup.findAll('div',{'class':'col_inner'})\n",
    "# pprint(data1_list)\n",
    "\n",
    "#전체 웹툰 리스트\n",
    "li_list = []\n",
    "for data1 in data1_list:\n",
    "    #제목+썸내일 영역 추출\n",
    "    li_list.extend(data1.findAll('li')) #해당 부분을 찾아 li_list와 병합\n",
    "# pprint(li_list)\n",
    "\n",
    "#각각 썸네일과 제목 추출하기\n",
    "for li in li_list:\n",
    "    img = li.find('img')\n",
    "    title = img['title']\n",
    "    img_src = img['src']\n",
    "    print(title,img_src)"
   ]
  }
 ],
 "metadata": {
  "kernelspec": {
   "display_name": "Python 3",
   "language": "python",
   "name": "python3"
  },
  "language_info": {
   "codemirror_mode": {
    "name": "ipython",
    "version": 3
   },
   "file_extension": ".py",
   "mimetype": "text/x-python",
   "name": "python",
   "nbconvert_exporter": "python",
   "pygments_lexer": "ipython3",
   "version": "3.6.4"
  }
 },
 "nbformat": 4,
 "nbformat_minor": 2
}
